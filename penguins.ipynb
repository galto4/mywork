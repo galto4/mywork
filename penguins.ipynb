{
 "cells": [
  {
   "cell_type": "markdown",
   "metadata": {},
   "source": [
    "<h2><font color='#a762bc'><b>An Analysis of Palmer Penguins</b></font></h2>\n",
    "<h6><b>Author: Mark Gallagher</b></h6>\n",
    "\n",
    "***"
   ]
  },
  {
   "cell_type": "markdown",
   "metadata": {},
   "source": [
    "#### <font color='#047374'><b>Table of contents</b></font><a class='anchor' id='top'></a>\n",
    "- [Section 1: Introduction](#section1)\n",
    "- [Section 2: Import Libraries](#section2)\n",
    "- [Section 3: Load the Data](#section3)\n",
    "- [Section 4: Inspect the Data](#section4)\n",
    "- [Section 5: Data Variables (An Overview)](#section5)\n",
    "- [Section 6: Data Visualisation (Histogram)](#section6)\n",
    "- [Section 7: Data Visualisation (Bar Chart)](#section7)\n",
    "- [Section 8: Data Visualisation (Two Variable Plot)](#section8)"
   ]
  },
  {
   "cell_type": "markdown",
   "metadata": {},
   "source": [
    "> **Warning:** This table of contents was working for me previously"
   ]
  },
  {
   "cell_type": "markdown",
   "metadata": {},
   "source": [
    "###### <b>source: [How to Add a Table of Contents in the Jupyter Notebook](https://www.geeksforgeeks.org/how-to-add-a-table-of-contents-in-the-jupyter-notebook/)</b>"
   ]
  },
  {
   "cell_type": "markdown",
   "metadata": {},
   "source": [
    "***"
   ]
  },
  {
   "cell_type": "markdown",
   "metadata": {},
   "source": [
    "#### <font color='#047374'><b>Section 1: Introduction</b></font><a class=\"anchor\" id=\"section1\"></a>\n",
    "\n",
    "This notebook contains my analysis of the famous Palmer Penguins dataset.\n",
    "\n",
    "<img src=\"https://r.qcbs.ca/workshop03/book-en/images/palmerpenguins.png\" width=150>\n",
    "\n",
    "<sub><b>Figure 1.1: Artwork by [Allison Horst](https://twitter.com/allison_horst)</b></sub> \n",
    "<br><br>\n",
    "The data set is available [on GitHub](https://allisonhorst.github.io/palmerpenguins/) and contains size measurements for three species of penguins, that were observed across three islands in the Palmer Archipelago, Antartica.\n",
    "\n",
    "The data was collected by [Dr. Kristen Gorman](https://gormankb.github.io/) between 2007-2009 with the Palmer Station Long Term Ecological Research Program [LTER](https://pallter.marine.rutgers.edu/).\n",
    "\n",
    "\n",
    "<img src=\"https://allisonhorst.github.io/palmerpenguins/reference/figures/lter_penguins.png\" width=450>\n",
    "\n",
    "<sub><b>Figure 1.2: Artwork by [Allison Horst](https://twitter.com/allison_horst)</b></sub> "
   ]
  },
  {
   "cell_type": "markdown",
   "metadata": {},
   "source": [
    "***"
   ]
  },
  {
   "cell_type": "markdown",
   "metadata": {},
   "source": [
    "#### <font color='#047374'><b>Section 2: Import Libraries</b></font><a class=\"anchor\" id=\"section2\"></a>\n",
    "\n",
    "The first step is importing the necessary libraries. For this project, I will be using the following:\n",
    "\n",
    "<ol>\n",
    "<li><b>pandas:</b> data manipulation library in Python, providing data structures and functions needed to manipulate and analyse structured data</li>\n",
    "<li><b>numpy:</b> for numerical computing in Python</li>\n",
    "<li><b>matplotlib:</b> a plotting library for Python for creating plots and visualisations.</li>\n",
    "</ol>\n",
    "\n",
    "These libraries will allow me to thoroughly investigate the data (and associated csv files) amongst other features."
   ]
  },
  {
   "cell_type": "code",
   "execution_count": 290,
   "metadata": {},
   "outputs": [],
   "source": [
    "# Importing Libraries\n",
    "import pandas as pd\n",
    "import numpy as np\n",
    "import matplotlib.pyplot as plt"
   ]
  },
  {
   "cell_type": "markdown",
   "metadata": {},
   "source": [
    "***"
   ]
  },
  {
   "cell_type": "markdown",
   "metadata": {},
   "source": [
    "#### <font color='#047374'><b>Section 3: Load the Data</b></font><a class=\"anchor\" id=\"section3\"></a>\n",
    "\n",
    "Importing data is the first step in any data science project. Let's load the palmerpenguin data, and validate it by viewing the first 5 rows."
   ]
  },
  {
   "cell_type": "code",
   "execution_count": 291,
   "metadata": {},
   "outputs": [
    {
     "data": {
      "text/html": [
       "<div>\n",
       "<style scoped>\n",
       "    .dataframe tbody tr th:only-of-type {\n",
       "        vertical-align: middle;\n",
       "    }\n",
       "\n",
       "    .dataframe tbody tr th {\n",
       "        vertical-align: top;\n",
       "    }\n",
       "\n",
       "    .dataframe thead th {\n",
       "        text-align: right;\n",
       "    }\n",
       "</style>\n",
       "<table border=\"1\" class=\"dataframe\">\n",
       "  <thead>\n",
       "    <tr style=\"text-align: right;\">\n",
       "      <th></th>\n",
       "      <th>species</th>\n",
       "      <th>island</th>\n",
       "      <th>bill_length_mm</th>\n",
       "      <th>bill_depth_mm</th>\n",
       "      <th>flipper_length_mm</th>\n",
       "      <th>body_mass_g</th>\n",
       "      <th>sex</th>\n",
       "    </tr>\n",
       "  </thead>\n",
       "  <tbody>\n",
       "    <tr>\n",
       "      <th>0</th>\n",
       "      <td>Adelie</td>\n",
       "      <td>Torgersen</td>\n",
       "      <td>39.1</td>\n",
       "      <td>18.7</td>\n",
       "      <td>181.0</td>\n",
       "      <td>3750.0</td>\n",
       "      <td>MALE</td>\n",
       "    </tr>\n",
       "    <tr>\n",
       "      <th>1</th>\n",
       "      <td>Adelie</td>\n",
       "      <td>Torgersen</td>\n",
       "      <td>39.5</td>\n",
       "      <td>17.4</td>\n",
       "      <td>186.0</td>\n",
       "      <td>3800.0</td>\n",
       "      <td>FEMALE</td>\n",
       "    </tr>\n",
       "    <tr>\n",
       "      <th>2</th>\n",
       "      <td>Adelie</td>\n",
       "      <td>Torgersen</td>\n",
       "      <td>40.3</td>\n",
       "      <td>18.0</td>\n",
       "      <td>195.0</td>\n",
       "      <td>3250.0</td>\n",
       "      <td>FEMALE</td>\n",
       "    </tr>\n",
       "    <tr>\n",
       "      <th>3</th>\n",
       "      <td>Adelie</td>\n",
       "      <td>Torgersen</td>\n",
       "      <td>NaN</td>\n",
       "      <td>NaN</td>\n",
       "      <td>NaN</td>\n",
       "      <td>NaN</td>\n",
       "      <td>NaN</td>\n",
       "    </tr>\n",
       "    <tr>\n",
       "      <th>4</th>\n",
       "      <td>Adelie</td>\n",
       "      <td>Torgersen</td>\n",
       "      <td>36.7</td>\n",
       "      <td>19.3</td>\n",
       "      <td>193.0</td>\n",
       "      <td>3450.0</td>\n",
       "      <td>FEMALE</td>\n",
       "    </tr>\n",
       "  </tbody>\n",
       "</table>\n",
       "</div>"
      ],
      "text/plain": [
       "  species     island  bill_length_mm  bill_depth_mm  flipper_length_mm  \\\n",
       "0  Adelie  Torgersen            39.1           18.7              181.0   \n",
       "1  Adelie  Torgersen            39.5           17.4              186.0   \n",
       "2  Adelie  Torgersen            40.3           18.0              195.0   \n",
       "3  Adelie  Torgersen             NaN            NaN                NaN   \n",
       "4  Adelie  Torgersen            36.7           19.3              193.0   \n",
       "\n",
       "   body_mass_g     sex  \n",
       "0       3750.0    MALE  \n",
       "1       3800.0  FEMALE  \n",
       "2       3250.0  FEMALE  \n",
       "3          NaN     NaN  \n",
       "4       3450.0  FEMALE  "
      ]
     },
     "execution_count": 291,
     "metadata": {},
     "output_type": "execute_result"
    }
   ],
   "source": [
    "# Read the CSV file\n",
    "df = pd.read_csv(\"https://raw.githubusercontent.com/mwaskom/seaborn-data/master/penguins.csv\")\n",
    "\n",
    "# View the first 5 rows\n",
    "df.head()"
   ]
  },
  {
   "cell_type": "markdown",
   "metadata": {},
   "source": [
    "###### <b>source: [pandas read csv() Tutorial: Importing Data](https://www.datacamp.com/tutorial/pandas-read-csv)</b>"
   ]
  },
  {
   "cell_type": "markdown",
   "metadata": {},
   "source": [
    "***"
   ]
  },
  {
   "cell_type": "markdown",
   "metadata": {},
   "source": [
    "#### <font color='#047374'><b>Section 4: Inspect the Data</b></font><a class=\"anchor\" id=\"section4\"></a>"
   ]
  },
  {
   "cell_type": "markdown",
   "metadata": {},
   "source": [
    "##### <b>4.1. Data summary</b>"
   ]
  },
  {
   "cell_type": "code",
   "execution_count": 292,
   "metadata": {},
   "outputs": [
    {
     "name": "stdout",
     "output_type": "stream",
     "text": [
      "<class 'pandas.core.frame.DataFrame'>\n",
      "RangeIndex: 344 entries, 0 to 343\n",
      "Data columns (total 7 columns):\n",
      " #   Column             Non-Null Count  Dtype  \n",
      "---  ------             --------------  -----  \n",
      " 0   species            344 non-null    object \n",
      " 1   island             344 non-null    object \n",
      " 2   bill_length_mm     342 non-null    float64\n",
      " 3   bill_depth_mm      342 non-null    float64\n",
      " 4   flipper_length_mm  342 non-null    float64\n",
      " 5   body_mass_g        342 non-null    float64\n",
      " 6   sex                333 non-null    object \n",
      "dtypes: float64(4), object(3)\n",
      "memory usage: 18.9+ KB\n"
     ]
    }
   ],
   "source": [
    "df.info() # Prints information about the DataFrame"
   ]
  },
  {
   "cell_type": "markdown",
   "metadata": {},
   "source": [
    "###### <b>source: [Pandas DataFrame info() Method](https://www.w3schools.com/python/pandas/ref_df_info.asp)</b>"
   ]
  },
  {
   "cell_type": "markdown",
   "metadata": {},
   "source": [
    "##### <b>4.2. Counting values</b>"
   ]
  },
  {
   "cell_type": "code",
   "execution_count": 293,
   "metadata": {},
   "outputs": [
    {
     "data": {
      "text/plain": [
       "species              344\n",
       "island               344\n",
       "bill_length_mm       342\n",
       "bill_depth_mm        342\n",
       "flipper_length_mm    342\n",
       "body_mass_g          342\n",
       "sex                  333\n",
       "dtype: int64"
      ]
     },
     "execution_count": 293,
     "metadata": {},
     "output_type": "execute_result"
    }
   ],
   "source": [
    "df.count() # Counts the number of not empty values for each row"
   ]
  },
  {
   "cell_type": "markdown",
   "metadata": {},
   "source": [
    "This count allows us to quickly check if there's 'null' or missing values associated to any of the penguins attributes.\n",
    "<br>\n",
    "###### <b>source: [Pandas DataFrame count() Method](https://www.w3schools.com/python/pandas/ref_df_count.asp)</b>"
   ]
  },
  {
   "cell_type": "markdown",
   "metadata": {},
   "source": [
    "##### <b>4.3. Cleaning empty cells</b>"
   ]
  },
  {
   "cell_type": "code",
   "execution_count": 294,
   "metadata": {},
   "outputs": [],
   "source": [
    "df = df.dropna() # Will update the Data Frame with no empty cells"
   ]
  },
  {
   "cell_type": "markdown",
   "metadata": {},
   "source": [
    "Removing a few rows with empty cells will not have a big impact on the result of the analysis. \n",
    "\n",
    "###### <b>source: [Pandas - Cleaning Empty Cells](https://www.w3schools.com/python/pandas/pandas_cleaning_empty_cells.asp)</b>"
   ]
  },
  {
   "cell_type": "markdown",
   "metadata": {},
   "source": [
    "##### <b>4.4. Selecting first row</b>"
   ]
  },
  {
   "cell_type": "code",
   "execution_count": 295,
   "metadata": {},
   "outputs": [
    {
     "data": {
      "text/plain": [
       "species                 Adelie\n",
       "island               Torgersen\n",
       "bill_length_mm            39.1\n",
       "bill_depth_mm             18.7\n",
       "flipper_length_mm        181.0\n",
       "body_mass_g             3750.0\n",
       "sex                       MALE\n",
       "Name: 0, dtype: object"
      ]
     },
     "execution_count": 295,
     "metadata": {},
     "output_type": "execute_result"
    }
   ],
   "source": [
    "# We can now look at the first row.\n",
    "df.iloc[0]"
   ]
  },
  {
   "cell_type": "markdown",
   "metadata": {},
   "source": [
    "###### <b>source: [Pandas DataFrame iloc Property](https://www.w3schools.com/python/pandas/ref_df_iloc.asp)</b>"
   ]
  },
  {
   "cell_type": "markdown",
   "metadata": {},
   "source": [
    "##### <b>4.5. Value counts (Sex)</b>"
   ]
  },
  {
   "cell_type": "code",
   "execution_count": 296,
   "metadata": {},
   "outputs": [
    {
     "data": {
      "text/plain": [
       "sex\n",
       "MALE      168\n",
       "FEMALE    165\n",
       "Name: count, dtype: int64"
      ]
     },
     "execution_count": 296,
     "metadata": {},
     "output_type": "execute_result"
    }
   ],
   "source": [
    "# Count the number of penguins of each sex.\n",
    "df['sex'].value_counts() # Count the number of unique values (i.e. Sex) in the data set"
   ]
  },
  {
   "cell_type": "markdown",
   "metadata": {},
   "source": [
    "###### <b>source: [Pandas Index.value_counts()](https://www.geeksforgeeks.org/python-pandas-index-value_counts/)</b>"
   ]
  },
  {
   "cell_type": "markdown",
   "metadata": {},
   "source": [
    "##### <b>4.6. Unique values</b>\n",
    "\n",
    "Now we will inspect the values in each of the columns, and get a count"
   ]
  },
  {
   "cell_type": "code",
   "execution_count": 297,
   "metadata": {},
   "outputs": [
    {
     "name": "stdout",
     "output_type": "stream",
     "text": [
      "species\n",
      "Adelie       146\n",
      "Gentoo       119\n",
      "Chinstrap     68\n",
      "Name: count, dtype: int64\n",
      "\n",
      "island\n",
      "Biscoe       163\n",
      "Dream        123\n",
      "Torgersen     47\n",
      "Name: count, dtype: int64\n",
      "\n",
      "bill_length_mm\n",
      "41.1    7\n",
      "45.2    6\n",
      "50.5    5\n",
      "39.6    5\n",
      "45.5    5\n",
      "       ..\n",
      "35.6    1\n",
      "37.5    1\n",
      "36.8    1\n",
      "43.1    1\n",
      "49.9    1\n",
      "Name: count, Length: 163, dtype: int64\n",
      "\n",
      "bill_depth_mm\n",
      "17.0    12\n",
      "18.5    10\n",
      "18.6    10\n",
      "17.9    10\n",
      "15.0    10\n",
      "        ..\n",
      "20.1     1\n",
      "20.6     1\n",
      "14.9     1\n",
      "13.2     1\n",
      "20.8     1\n",
      "Name: count, Length: 79, dtype: int64\n",
      "\n",
      "flipper_length_mm\n",
      "190.0    21\n",
      "195.0    17\n",
      "187.0    16\n",
      "193.0    14\n",
      "210.0    14\n",
      "191.0    13\n",
      "215.0    12\n",
      "197.0    10\n",
      "196.0    10\n",
      "185.0     9\n",
      "220.0     8\n",
      "198.0     8\n",
      "208.0     8\n",
      "230.0     7\n",
      "181.0     7\n",
      "189.0     7\n",
      "192.0     7\n",
      "184.0     7\n",
      "212.0     7\n",
      "213.0     6\n",
      "201.0     6\n",
      "216.0     6\n",
      "222.0     6\n",
      "186.0     6\n",
      "199.0     6\n",
      "188.0     6\n",
      "209.0     5\n",
      "194.0     5\n",
      "214.0     5\n",
      "203.0     5\n",
      "219.0     5\n",
      "221.0     5\n",
      "218.0     5\n",
      "217.0     5\n",
      "225.0     4\n",
      "178.0     4\n",
      "200.0     4\n",
      "228.0     4\n",
      "202.0     4\n",
      "180.0     4\n",
      "182.0     3\n",
      "224.0     3\n",
      "205.0     3\n",
      "183.0     2\n",
      "211.0     2\n",
      "207.0     2\n",
      "229.0     2\n",
      "223.0     2\n",
      "174.0     1\n",
      "172.0     1\n",
      "206.0     1\n",
      "231.0     1\n",
      "176.0     1\n",
      "226.0     1\n",
      "Name: count, dtype: int64\n",
      "\n",
      "body_mass_g\n",
      "3800.0    12\n",
      "3900.0    10\n",
      "3700.0    10\n",
      "3950.0    10\n",
      "3550.0     9\n",
      "          ..\n",
      "3975.0     1\n",
      "3575.0     1\n",
      "3850.0     1\n",
      "2700.0     1\n",
      "5750.0     1\n",
      "Name: count, Length: 93, dtype: int64\n",
      "\n",
      "sex\n",
      "MALE      168\n",
      "FEMALE    165\n",
      "Name: count, dtype: int64\n",
      "\n"
     ]
    }
   ],
   "source": [
    "for val in df:\n",
    "    print(df[val].value_counts())\n",
    "    print()"
   ]
  },
  {
   "cell_type": "markdown",
   "metadata": {},
   "source": [
    "##### <b>4.7. Descriptive statistics</b>"
   ]
  },
  {
   "cell_type": "code",
   "execution_count": 298,
   "metadata": {},
   "outputs": [
    {
     "data": {
      "text/html": [
       "<div>\n",
       "<style scoped>\n",
       "    .dataframe tbody tr th:only-of-type {\n",
       "        vertical-align: middle;\n",
       "    }\n",
       "\n",
       "    .dataframe tbody tr th {\n",
       "        vertical-align: top;\n",
       "    }\n",
       "\n",
       "    .dataframe thead th {\n",
       "        text-align: right;\n",
       "    }\n",
       "</style>\n",
       "<table border=\"1\" class=\"dataframe\">\n",
       "  <thead>\n",
       "    <tr style=\"text-align: right;\">\n",
       "      <th></th>\n",
       "      <th>bill_length_mm</th>\n",
       "      <th>bill_depth_mm</th>\n",
       "      <th>flipper_length_mm</th>\n",
       "      <th>body_mass_g</th>\n",
       "    </tr>\n",
       "  </thead>\n",
       "  <tbody>\n",
       "    <tr>\n",
       "      <th>count</th>\n",
       "      <td>333.000000</td>\n",
       "      <td>333.000000</td>\n",
       "      <td>333.000000</td>\n",
       "      <td>333.000000</td>\n",
       "    </tr>\n",
       "    <tr>\n",
       "      <th>mean</th>\n",
       "      <td>43.992793</td>\n",
       "      <td>17.164865</td>\n",
       "      <td>200.966967</td>\n",
       "      <td>4207.057057</td>\n",
       "    </tr>\n",
       "    <tr>\n",
       "      <th>std</th>\n",
       "      <td>5.468668</td>\n",
       "      <td>1.969235</td>\n",
       "      <td>14.015765</td>\n",
       "      <td>805.215802</td>\n",
       "    </tr>\n",
       "    <tr>\n",
       "      <th>min</th>\n",
       "      <td>32.100000</td>\n",
       "      <td>13.100000</td>\n",
       "      <td>172.000000</td>\n",
       "      <td>2700.000000</td>\n",
       "    </tr>\n",
       "    <tr>\n",
       "      <th>25%</th>\n",
       "      <td>39.500000</td>\n",
       "      <td>15.600000</td>\n",
       "      <td>190.000000</td>\n",
       "      <td>3550.000000</td>\n",
       "    </tr>\n",
       "    <tr>\n",
       "      <th>50%</th>\n",
       "      <td>44.500000</td>\n",
       "      <td>17.300000</td>\n",
       "      <td>197.000000</td>\n",
       "      <td>4050.000000</td>\n",
       "    </tr>\n",
       "    <tr>\n",
       "      <th>75%</th>\n",
       "      <td>48.600000</td>\n",
       "      <td>18.700000</td>\n",
       "      <td>213.000000</td>\n",
       "      <td>4775.000000</td>\n",
       "    </tr>\n",
       "    <tr>\n",
       "      <th>max</th>\n",
       "      <td>59.600000</td>\n",
       "      <td>21.500000</td>\n",
       "      <td>231.000000</td>\n",
       "      <td>6300.000000</td>\n",
       "    </tr>\n",
       "  </tbody>\n",
       "</table>\n",
       "</div>"
      ],
      "text/plain": [
       "       bill_length_mm  bill_depth_mm  flipper_length_mm  body_mass_g\n",
       "count      333.000000     333.000000         333.000000   333.000000\n",
       "mean        43.992793      17.164865         200.966967  4207.057057\n",
       "std          5.468668       1.969235          14.015765   805.215802\n",
       "min         32.100000      13.100000         172.000000  2700.000000\n",
       "25%         39.500000      15.600000         190.000000  3550.000000\n",
       "50%         44.500000      17.300000         197.000000  4050.000000\n",
       "75%         48.600000      18.700000         213.000000  4775.000000\n",
       "max         59.600000      21.500000         231.000000  6300.000000"
      ]
     },
     "execution_count": 298,
     "metadata": {},
     "output_type": "execute_result"
    }
   ],
   "source": [
    "# Describe the data set.\n",
    "df.describe() # Returns a description of the data in the DataFrame"
   ]
  },
  {
   "cell_type": "markdown",
   "metadata": {},
   "source": [
    "Explanation of the description of numerical columns\n",
    "<ul>\n",
    "<li><b>count:</b> total number of non-empty values</li>\n",
    "<li><b>mean:</b> mean of the column values</li>\n",
    "<li><b>std:</b> standard deviation of the column values</li>\n",
    "<li><b>min:</b> minimum value from the column</li>\n",
    "<li><b>25%:</b> 25 percentile</li>\n",
    "<li><b>50%:</b> 50 percentile</li>\n",
    "<li><b>75%:</b> 75 percentile</li>\n",
    "<li><b>max:</b> maximum value from the column</li>\n",
    "</ul>\n",
    "\n",
    "###### <b>source: [Pandas DataFrame describe() Method](https://www.w3schools.com/python/pandas/ref_df_describe.asp#:~:text=The%20describe()%20method%20returns,The%20average%20(mean)%20value.)</b>"
   ]
  },
  {
   "cell_type": "markdown",
   "metadata": {},
   "source": [
    "##### <b>4.8. Sorting data</b>\n",
    "\n",
    "We can sort the source data by specific variables to make it easy to read and scan."
   ]
  },
  {
   "cell_type": "code",
   "execution_count": 299,
   "metadata": {},
   "outputs": [
    {
     "data": {
      "text/html": [
       "<div>\n",
       "<style scoped>\n",
       "    .dataframe tbody tr th:only-of-type {\n",
       "        vertical-align: middle;\n",
       "    }\n",
       "\n",
       "    .dataframe tbody tr th {\n",
       "        vertical-align: top;\n",
       "    }\n",
       "\n",
       "    .dataframe thead th {\n",
       "        text-align: right;\n",
       "    }\n",
       "</style>\n",
       "<table border=\"1\" class=\"dataframe\">\n",
       "  <thead>\n",
       "    <tr style=\"text-align: right;\">\n",
       "      <th></th>\n",
       "      <th>species</th>\n",
       "      <th>island</th>\n",
       "      <th>bill_length_mm</th>\n",
       "      <th>bill_depth_mm</th>\n",
       "      <th>flipper_length_mm</th>\n",
       "      <th>body_mass_g</th>\n",
       "      <th>sex</th>\n",
       "    </tr>\n",
       "  </thead>\n",
       "  <tbody>\n",
       "    <tr>\n",
       "      <th>343</th>\n",
       "      <td>Gentoo</td>\n",
       "      <td>Biscoe</td>\n",
       "      <td>49.9</td>\n",
       "      <td>16.1</td>\n",
       "      <td>213.0</td>\n",
       "      <td>5400.0</td>\n",
       "      <td>MALE</td>\n",
       "    </tr>\n",
       "    <tr>\n",
       "      <th>112</th>\n",
       "      <td>Adelie</td>\n",
       "      <td>Biscoe</td>\n",
       "      <td>39.7</td>\n",
       "      <td>17.7</td>\n",
       "      <td>193.0</td>\n",
       "      <td>3200.0</td>\n",
       "      <td>FEMALE</td>\n",
       "    </tr>\n",
       "    <tr>\n",
       "      <th>113</th>\n",
       "      <td>Adelie</td>\n",
       "      <td>Biscoe</td>\n",
       "      <td>42.2</td>\n",
       "      <td>19.5</td>\n",
       "      <td>197.0</td>\n",
       "      <td>4275.0</td>\n",
       "      <td>MALE</td>\n",
       "    </tr>\n",
       "    <tr>\n",
       "      <th>114</th>\n",
       "      <td>Adelie</td>\n",
       "      <td>Biscoe</td>\n",
       "      <td>39.6</td>\n",
       "      <td>20.7</td>\n",
       "      <td>191.0</td>\n",
       "      <td>3900.0</td>\n",
       "      <td>FEMALE</td>\n",
       "    </tr>\n",
       "    <tr>\n",
       "      <th>115</th>\n",
       "      <td>Adelie</td>\n",
       "      <td>Biscoe</td>\n",
       "      <td>42.7</td>\n",
       "      <td>18.3</td>\n",
       "      <td>196.0</td>\n",
       "      <td>4075.0</td>\n",
       "      <td>MALE</td>\n",
       "    </tr>\n",
       "  </tbody>\n",
       "</table>\n",
       "</div>"
      ],
      "text/plain": [
       "    species  island  bill_length_mm  bill_depth_mm  flipper_length_mm  \\\n",
       "343  Gentoo  Biscoe            49.9           16.1              213.0   \n",
       "112  Adelie  Biscoe            39.7           17.7              193.0   \n",
       "113  Adelie  Biscoe            42.2           19.5              197.0   \n",
       "114  Adelie  Biscoe            39.6           20.7              191.0   \n",
       "115  Adelie  Biscoe            42.7           18.3              196.0   \n",
       "\n",
       "     body_mass_g     sex  \n",
       "343       5400.0    MALE  \n",
       "112       3200.0  FEMALE  \n",
       "113       4275.0    MALE  \n",
       "114       3900.0  FEMALE  \n",
       "115       4075.0    MALE  "
      ]
     },
     "execution_count": 299,
     "metadata": {},
     "output_type": "execute_result"
    }
   ],
   "source": [
    "# Sort by 'Island' (display first 5 rows)\n",
    "df.sort_values(\"island\").head(5) # Sorts the DataFrame by the specified label"
   ]
  },
  {
   "cell_type": "markdown",
   "metadata": {},
   "source": [
    "###### <b>source: [Pandas DataFrame sort_values() Method](https://www.w3schools.com/python/pandas/ref_df_sort_values.asp)</b>"
   ]
  },
  {
   "cell_type": "markdown",
   "metadata": {},
   "source": [
    "***"
   ]
  },
  {
   "cell_type": "markdown",
   "metadata": {},
   "source": [
    "#### <font color='#047374'><b>Section 5: Data Variables (An Overview)</b></font><a class=\"anchor\" id=\"section5\"></a>"
   ]
  },
  {
   "cell_type": "markdown",
   "metadata": {},
   "source": [
    "Let's take a closer look at the types of variables included in this data set. This will allow us to determine which variables will be best suited for the subsequent analysis."
   ]
  },
  {
   "cell_type": "code",
   "execution_count": 300,
   "metadata": {},
   "outputs": [
    {
     "data": {
      "text/plain": [
       "species               object\n",
       "island                object\n",
       "bill_length_mm       float64\n",
       "bill_depth_mm        float64\n",
       "flipper_length_mm    float64\n",
       "body_mass_g          float64\n",
       "sex                   object\n",
       "dtype: object"
      ]
     },
     "execution_count": 300,
     "metadata": {},
     "output_type": "execute_result"
    }
   ],
   "source": [
    "df.dtypes # Returns the data type of each column in the DataFrame"
   ]
  },
  {
   "cell_type": "markdown",
   "metadata": {},
   "source": [
    "##### <b>5.1. Variable names</b>\n",
    "\n",
    "There are 7 variables included in this data set, including:\n",
    "<ol>\n",
    "<li><b>species:</b> penguin species (Chinstrap, Adélie, or Gentoo)</li>\n",
    "<li><b>islands:</b> island name (Dream, Torgersen, or Biscoe) in the Palmer Archipelago (Antarctica)</li>\n",
    "<li><b>bill_length_mm:</b> bill length</li>\n",
    "<li><b>bill_depth_mm:</b> bill depth</li>\n",
    "<li><b>flipper_length_mm:</b> flipper length (mm)</li>\n",
    "<li><b>body_mass_g:</b> body mass (g)</li>\n",
    "<li><b>sex:</b> penguin sex</li>\n",
    "</ol>\n",
    "\n",
    "###### <b>source: [Pandas DataFrame dtypes Property](https://www.w3schools.com/python/pandas/ref_df_dtypes.asp)</b>"
   ]
  },
  {
   "cell_type": "markdown",
   "metadata": {},
   "source": [
    "##### <b>5.2. Variable types</b>\n",
    "\n",
    "The above variables can be categorised as follows:\n",
    "<ol>\n",
    "<li><b>Factor variables</b>: 'species', 'island' and 'sex', which are important for grouping the data with colour, shapes, and other aesthetics in a plot.</li>\n",
    "<li><b>Numeric variables</b>: 'bill_length_mm' and 'bill_depth_mm'</li>\n",
    "<li><b>Integer variables</b>: 'flipper_length_mm' and 'body_mass_g'</li>\n",
    "<li><b>Temporal component</b>: 'year' spanning the years from 2007 to 2009</li>\n",
    "</ol>"
   ]
  },
  {
   "cell_type": "markdown",
   "metadata": {},
   "source": [
    "###### <b>source: [Chapter 6 The basics of visualizing data](https://r.qcbs.ca/workshop03/book-en/the-basics-of-visualizing-data.html#todays-dataset-palmerpenguins)</b>"
   ]
  },
  {
   "cell_type": "markdown",
   "metadata": {},
   "source": [
    "***"
   ]
  },
  {
   "cell_type": "markdown",
   "metadata": {},
   "source": [
    "#### <font color='#047374'><b>Section 6: Data Visualisation (Histogram)</b></font><a class=\"anchor\" id=\"section6\"></a>"
   ]
  },
  {
   "cell_type": "markdown",
   "metadata": {},
   "source": [
    "The histogram plot shows the distribution of the data. You can use the histogram plot to see the distribution of one or more variables. "
   ]
  },
  {
   "cell_type": "markdown",
   "metadata": {},
   "source": [
    "##### <b>6.1. Body Mass (g)</b>"
   ]
  },
  {
   "cell_type": "code",
   "execution_count": 301,
   "metadata": {},
   "outputs": [
    {
     "data": {
      "text/plain": [
       "<function matplotlib.pyplot.show(close=None, block=None)>"
      ]
     },
     "execution_count": 301,
     "metadata": {},
     "output_type": "execute_result"
    },
    {
     "data": {
      "image/png": "[encoded data removed]",
      "text/plain": [
       "<Figure size 640x480 with 1 Axes>"
      ]
     },
     "metadata": {},
     "output_type": "display_data"
    }
   ],
   "source": [
    "# Step 1: Select the specific column (of data) to create the histrogram\n",
    "df.hist(column='body_mass_g', bins=15, color='#fb7504', rwidth=0.9, grid=False, )\n",
    "\n",
    "# Step 2: Apply labels and styling to the chart\n",
    "plt.title(\"Body Mass\", size=10, color=\"#060505\")\n",
    "plt.xlabel('X')\n",
    "plt.ylabel('Y') \n",
    "plt.tight_layout()\n",
    "\n",
    "# Step 3: Display the chart\n",
    "plt.show"
   ]
  },
  {
   "cell_type": "markdown",
   "metadata": {},
   "source": [
    "###### source: [Creating Histograms using Pandas](https://mode.com/example-gallery/python_histogram)"
   ]
  },
  {
   "cell_type": "markdown",
   "metadata": {},
   "source": [
    "##### <b>6.2. Body Mass (By Species)</b>\n",
    "\n",
    "The pandas hist() function allows us to create separate subplots for different groups of data. This is achieved by passing a column to the 'by' parameter. \n",
    "<br><br>\n",
    "Let's give it the [old college try](https://www.merriam-webster.com/dictionary/give%20it%20the%20old%20college%20try#:~:text=%3A%20to%20use%20one's%20very%20best,it%20the%20old%20college%20try!)."
   ]
  },
  {
   "cell_type": "code",
   "execution_count": 302,
   "metadata": {},
   "outputs": [
    {
     "data": {
      "text/plain": [
       "array([[<Axes: title={'center': 'Adelie'}>,\n",
       "        <Axes: title={'center': 'Chinstrap'}>],\n",
       "       [<Axes: title={'center': 'Gentoo'}>, <Axes: >]], dtype=object)"
      ]
     },
     "execution_count": 302,
     "metadata": {},
     "output_type": "execute_result"
    },
    {
     "data": {
      "image/png": "[encoded data removed]",
      "text/plain": [
       "<Figure size 800x600 with 4 Axes>"
      ]
     },
     "metadata": {},
     "output_type": "display_data"
    }
   ],
   "source": [
    "# Step 1: Select the specific column and groupings\n",
    "df['body_mass_g'].hist(by=df['species'], bins=15, color='#047374', edgecolor='black', figsize = (8,6))"
   ]
  },
  {
   "cell_type": "markdown",
   "metadata": {},
   "source": [
    "###### <b>source: [Creating Histograms using Pandas](https://mode.com/example-gallery/python_histogram)<b>\n",
    "###### <b>source: [How to Plot Histograms by Group in Pandas](https://www.statology.org/pandas-histogram-by-group/)<b>"
   ]
  },
  {
   "cell_type": "markdown",
   "metadata": {},
   "source": [
    "***"
   ]
  },
  {
   "cell_type": "markdown",
   "metadata": {},
   "source": [
    "#### <font color='#047374'><b>Section 7: Data Visualisation (Bar Chart)</font></b><a class=\"anchor\" id=\"section7\"></a>"
   ]
  },
  {
   "cell_type": "code",
   "execution_count": 303,
   "metadata": {},
   "outputs": [],
   "source": [
    "# Step 1: Count Penguin Species\n",
    "species_counts = df['species'].value_counts() # Creates a new variable"
   ]
  },
  {
   "cell_type": "code",
   "execution_count": 304,
   "metadata": {},
   "outputs": [],
   "source": [
    "# Step 2:  Define the bar (bin) colours\n",
    "colors = ['#fb7504', '#047374', '#c65ccc']"
   ]
  },
  {
   "cell_type": "code",
   "execution_count": 305,
   "metadata": {},
   "outputs": [
    {
     "data": {
      "image/png": "[encoded data removed]",
      "text/plain": [
       "<Figure size 800x600 with 1 Axes>"
      ]
     },
     "metadata": {},
     "output_type": "display_data"
    }
   ],
   "source": [
    "# Step 3: Plotting and Styling the Bar Chart\n",
    "plt.figure(figsize=(8, 6)) # Create a new figure with a specified size\n",
    "species_counts.plot(kind='bar', color=colors)\n",
    "plt.title('Number of Penguins by Species') # Set the title of the chart\n",
    "plt.xlabel('Species') # Label for the x-axis\n",
    "plt.ylabel('Count') # Label for the y-axis\n",
    "plt.xticks(rotation=15) # Rotate x-axis labels for better readability\n",
    "plt.grid(axis='y', linestyle='--', alpha=0.7) # Add grid lines to the y-axis\n",
    "plt.tight_layout() # Adjust the padding between and around subplots\n",
    "\n",
    "# Step 4: Display the plot\n",
    "plt.show()"
   ]
  },
  {
   "cell_type": "markdown",
   "metadata": {},
   "source": [
    "###### <b>source: [Lorem ipsum](https://mode.com/example-gallery/python_histogram)</b>"
   ]
  },
  {
   "cell_type": "markdown",
   "metadata": {},
   "source": [
    "***"
   ]
  },
  {
   "cell_type": "markdown",
   "metadata": {},
   "source": [
    "#### <font color='#047374'><b>Section 8: Data Visualisation (Two Variable Plot)</font></b><a class=\"anchor\" id=\"section8\"></a>"
   ]
  },
  {
   "cell_type": "markdown",
   "metadata": {},
   "source": [
    "##### <b>8.1. Flipper length (mm) vs. Bill length (mm)</b>"
   ]
  },
  {
   "cell_type": "code",
   "execution_count": 306,
   "metadata": {},
   "outputs": [
    {
     "name": "stdout",
     "output_type": "stream",
     "text": [
      "0      181.0\n",
      "1      186.0\n",
      "2      195.0\n",
      "4      193.0\n",
      "5      190.0\n",
      "       ...  \n",
      "338    214.0\n",
      "340    215.0\n",
      "341    222.0\n",
      "342    212.0\n",
      "343    213.0\n",
      "Name: flipper_length_mm, Length: 333, dtype: float64\n",
      "<class 'pandas.core.series.Series'>\n"
     ]
    }
   ],
   "source": [
    "# Get just the flipper length\n",
    "flen = df['flipper_length_mm'] # Create a new variable for flipper length\n",
    "\n",
    "# Show the Dats\n",
    "print(flen) # Display (print) the data\n",
    "\n",
    "# Show the Type\n",
    "print(type(flen)) # Display the data type"
   ]
  },
  {
   "cell_type": "code",
   "execution_count": 307,
   "metadata": {},
   "outputs": [
    {
     "data": {
      "text/plain": [
       "array([39.1, 39.5, 40.3, 36.7, 39.3, 38.9, 39.2, 41.1, 38.6, 34.6, 36.6,\n",
       "       38.7, 42.5, 34.4, 46. , 37.8, 37.7, 35.9, 38.2, 38.8, 35.3, 40.6,\n",
       "       40.5, 37.9, 40.5, 39.5, 37.2, 39.5, 40.9, 36.4, 39.2, 38.8, 42.2,\n",
       "       37.6, 39.8, 36.5, 40.8, 36. , 44.1, 37. , 39.6, 41.1, 36. , 42.3,\n",
       "       39.6, 40.1, 35. , 42. , 34.5, 41.4, 39. , 40.6, 36.5, 37.6, 35.7,\n",
       "       41.3, 37.6, 41.1, 36.4, 41.6, 35.5, 41.1, 35.9, 41.8, 33.5, 39.7,\n",
       "       39.6, 45.8, 35.5, 42.8, 40.9, 37.2, 36.2, 42.1, 34.6, 42.9, 36.7,\n",
       "       35.1, 37.3, 41.3, 36.3, 36.9, 38.3, 38.9, 35.7, 41.1, 34. , 39.6,\n",
       "       36.2, 40.8, 38.1, 40.3, 33.1, 43.2, 35. , 41. , 37.7, 37.8, 37.9,\n",
       "       39.7, 38.6, 38.2, 38.1, 43.2, 38.1, 45.6, 39.7, 42.2, 39.6, 42.7,\n",
       "       38.6, 37.3, 35.7, 41.1, 36.2, 37.7, 40.2, 41.4, 35.2, 40.6, 38.8,\n",
       "       41.5, 39. , 44.1, 38.5, 43.1, 36.8, 37.5, 38.1, 41.1, 35.6, 40.2,\n",
       "       37. , 39.7, 40.2, 40.6, 32.1, 40.7, 37.3, 39. , 39.2, 36.6, 36. ,\n",
       "       37.8, 36. , 41.5, 46.5, 50. , 51.3, 45.4, 52.7, 45.2, 46.1, 51.3,\n",
       "       46. , 51.3, 46.6, 51.7, 47. , 52. , 45.9, 50.5, 50.3, 58. , 46.4,\n",
       "       49.2, 42.4, 48.5, 43.2, 50.6, 46.7, 52. , 50.5, 49.5, 46.4, 52.8,\n",
       "       40.9, 54.2, 42.5, 51. , 49.7, 47.5, 47.6, 52. , 46.9, 53.5, 49. ,\n",
       "       46.2, 50.9, 45.5, 50.9, 50.8, 50.1, 49. , 51.5, 49.8, 48.1, 51.4,\n",
       "       45.7, 50.7, 42.5, 52.2, 45.2, 49.3, 50.2, 45.6, 51.9, 46.8, 45.7,\n",
       "       55.8, 43.5, 49.6, 50.8, 50.2, 46.1, 50. , 48.7, 50. , 47.6, 46.5,\n",
       "       45.4, 46.7, 43.3, 46.8, 40.9, 49. , 45.5, 48.4, 45.8, 49.3, 42. ,\n",
       "       49.2, 46.2, 48.7, 50.2, 45.1, 46.5, 46.3, 42.9, 46.1, 47.8, 48.2,\n",
       "       50. , 47.3, 42.8, 45.1, 59.6, 49.1, 48.4, 42.6, 44.4, 44. , 48.7,\n",
       "       42.7, 49.6, 45.3, 49.6, 50.5, 43.6, 45.5, 50.5, 44.9, 45.2, 46.6,\n",
       "       48.5, 45.1, 50.1, 46.5, 45. , 43.8, 45.5, 43.2, 50.4, 45.3, 46.2,\n",
       "       45.7, 54.3, 45.8, 49.8, 49.5, 43.5, 50.7, 47.7, 46.4, 48.2, 46.5,\n",
       "       46.4, 48.6, 47.5, 51.1, 45.2, 45.2, 49.1, 52.5, 47.4, 50. , 44.9,\n",
       "       50.8, 43.4, 51.3, 47.5, 52.1, 47.5, 52.2, 45.5, 49.5, 44.5, 50.8,\n",
       "       49.4, 46.9, 48.4, 51.1, 48.5, 55.9, 47.2, 49.1, 46.8, 41.7, 53.4,\n",
       "       43.3, 48.1, 50.5, 49.8, 43.5, 51.5, 46.2, 55.1, 48.8, 47.2, 46.8,\n",
       "       50.4, 45.2, 49.9])"
      ]
     },
     "execution_count": 307,
     "metadata": {},
     "output_type": "execute_result"
    }
   ],
   "source": [
    "# Get just the flipper length\n",
    "blen = df['bill_length_mm'].to_numpy() # Create variable for flipper length and\n",
    "\n",
    "# Show the data\n",
    "blen"
   ]
  },
  {
   "cell_type": "code",
   "execution_count": 308,
   "metadata": {},
   "outputs": [
    {
     "data": {
      "image/png": "[encoded data removed]",
      "text/plain": [
       "<Figure size 640x480 with 1 Axes>"
      ]
     },
     "metadata": {},
     "output_type": "display_data"
    }
   ],
   "source": [
    "# Simple Plot\n",
    "plt.plot(flen, blen, 'x')\n",
    "\n",
    "# Add Axis Labels\n",
    "\n",
    "plt.xlabel('flipper_length_mm')\n",
    "plt.ylabel('bill_length_mm')\n",
    "\n",
    "# Add a Title\n",
    "plt.title('Flipper length vs. Bill length')\n",
    "\n",
    "# Set the X Limits\n",
    "plt.xlim(150, 250) # Adjusting limits for optimal plot view\n",
    "\n",
    "# Set the Y Limits\n",
    "plt.ylim(10, 80) # Adjusting limits for optimal plot view\n",
    "\n",
    "plt.tight_layout() # Adjust the padding between and around subplots"
   ]
  },
  {
   "cell_type": "markdown",
   "metadata": {},
   "source": [
    "##### <b>Section 8.1.1: Add a Best Fit Line (Flipper Length vs. Bill Length)</b>"
   ]
  },
  {
   "cell_type": "markdown",
   "metadata": {},
   "source": [
    "$ y = mx + c = p_1 x^1 + p_0 = p1 x + p_0$"
   ]
  },
  {
   "cell_type": "code",
   "execution_count": 309,
   "metadata": {},
   "outputs": [
    {
     "data": {
      "text/plain": [
       "(0.25482471848215243, -7.218557988776602)"
      ]
     },
     "execution_count": 309,
     "metadata": {},
     "output_type": "execute_result"
    }
   ],
   "source": [
    "# Fit a straight line betwee x and y\n",
    "b, a = np.polyfit(flen, blen, deg=1)\n",
    "\n",
    "# Show m and c.\n",
    "b, a"
   ]
  },
  {
   "cell_type": "code",
   "execution_count": 310,
   "metadata": {},
   "outputs": [
    {
     "data": {
      "text/plain": [
       "(10.0, 80.0)"
      ]
     },
     "execution_count": 310,
     "metadata": {},
     "output_type": "execute_result"
    },
    {
     "data": {
      "image/png": "[encoded data removed]",
      "text/plain": [
       "<Figure size 640x480 with 1 Axes>"
      ]
     },
     "metadata": {},
     "output_type": "display_data"
    }
   ],
   "source": [
    "# Create a new figure and set of axis\n",
    "fig, ax = plt.subplots()\n",
    "\n",
    "# Simple Plot\n",
    "ax.plot(flen, blen, 'x')\n",
    "\n",
    "# Simple Plot\n",
    "ax.plot(flen, b * flen + a, 'r-')\n",
    "\n",
    "# Add Axis labels\n",
    "ax.set_xlabel('Flipper Length (mm)')\n",
    "ax.set_ylabel('Bill Length (mm)')\n",
    "\n",
    "# Title\n",
    "ax.set_title('Bill Length vs. Flipper Length')\n",
    "\n",
    "# Set X Limits\n",
    "ax.set_xlim(150, 250)\n",
    "\n",
    "# Set Y Limits\n",
    "ax.set_ylim(10, 80)"
   ]
  },
  {
   "cell_type": "markdown",
   "metadata": {},
   "source": [
    "##### <b>Section 8.1.2: Correlation Coefficient (Flipper Length vs. Bill Length)</b>"
   ]
  },
  {
   "cell_type": "code",
   "execution_count": 311,
   "metadata": {},
   "outputs": [
    {
     "data": {
      "text/plain": [
       "array([[1.        , 0.65309564],\n",
       "       [0.65309564, 1.        ]])"
      ]
     },
     "execution_count": 311,
     "metadata": {},
     "output_type": "execute_result"
    }
   ],
   "source": [
    "# Measure the correlation\n",
    "\n",
    "np.corrcoef(flen, blen) # create correlation matrix"
   ]
  },
  {
   "cell_type": "markdown",
   "metadata": {},
   "source": [
    "<sub><b>Value of correlation</b>: 0.65309564</sub>\n",
    "\n",
    "<sub><b>Analysis</b>: This correlation matrix indicates a <u>moderate positive correlation</u> between 'flipper_length' and 'bill_length'. This means that penguins with a larger 'flipper length' will tend to have longer 'bill lengths'. Similarly, as the length of one variable decreases, the other variable tends to decrease. \n",
    "\n",
    "###### <b>source: [Create a correlation Matrix using Python](https://www.geeksforgeeks.org/create-a-correlation-matrix-using-python/)</b>"
   ]
  },
  {
   "cell_type": "markdown",
   "metadata": {},
   "source": [
    "***"
   ]
  },
  {
   "cell_type": "markdown",
   "metadata": {},
   "source": [
    "##### <b>Section 8.2: Body mass (g) vs. Flipper length (mm)</b>"
   ]
  },
  {
   "cell_type": "code",
   "execution_count": 312,
   "metadata": {},
   "outputs": [
    {
     "name": "stdout",
     "output_type": "stream",
     "text": [
      "0      3750.0\n",
      "1      3800.0\n",
      "2      3250.0\n",
      "4      3450.0\n",
      "5      3650.0\n",
      "        ...  \n",
      "338    4925.0\n",
      "340    4850.0\n",
      "341    5750.0\n",
      "342    5200.0\n",
      "343    5400.0\n",
      "Name: body_mass_g, Length: 333, dtype: float64\n",
      "<class 'pandas.core.series.Series'>\n"
     ]
    }
   ],
   "source": [
    "# Get the Penguin (Body) Mass\n",
    "\n",
    "pmass = df['body_mass_g']\n",
    "\n",
    "# Show the Data\n",
    "print(pmass)\n",
    "\n",
    "# Show the Data Type\n",
    "print(type(pmass))"
   ]
  },
  {
   "cell_type": "code",
   "execution_count": 313,
   "metadata": {},
   "outputs": [
    {
     "data": {
      "image/png": "[encoded data removed]",
      "text/plain": [
       "<Figure size 640x480 with 1 Axes>"
      ]
     },
     "metadata": {},
     "output_type": "display_data"
    }
   ],
   "source": [
    "# Simple Plot\n",
    "\n",
    "plt.plot(flen, pmass, 'x')\n",
    "\n",
    "# Add Axis labels\n",
    "plt.xlabel('Flipper Length (mm)')\n",
    "plt.ylabel('Penguin Mass (g)')\n",
    "\n",
    "# Title\n",
    "plt.title('Penguin (Body) Mass vs. Flipper Length')\n",
    "\n",
    "# Set X Limits\n",
    "plt.xlim(150, 250)\n",
    "\n",
    "# Set Y Limits\n",
    "plt.ylim(1700, 8000)\n",
    "\n",
    "plt.tight_layout() # Adjust the padding between and around subplots"
   ]
  },
  {
   "cell_type": "markdown",
   "metadata": {},
   "source": [
    "##### <b>Section 8.2.1: Add a Best Fit Line (Flipper Length vs. Bill Length)</b>"
   ]
  },
  {
   "cell_type": "markdown",
   "metadata": {},
   "source": [
    "$ y = mx + c = p_1 x^1 + p_0 = p1 x + p_0$"
   ]
  },
  {
   "cell_type": "code",
   "execution_count": 314,
   "metadata": {},
   "outputs": [
    {
     "data": {
      "text/plain": [
       "(50.15326594224115, -5872.0926828428255)"
      ]
     },
     "execution_count": 314,
     "metadata": {},
     "output_type": "execute_result"
    }
   ],
   "source": [
    "# Fit a straight line betwee x and y\n",
    "b, a = np.polyfit(flen, pmass, deg=1)\n",
    "\n",
    "# Show m and c.\n",
    "b, a"
   ]
  },
  {
   "cell_type": "code",
   "execution_count": 315,
   "metadata": {},
   "outputs": [
    {
     "data": {
      "text/plain": [
       "(1700.0, 8000.0)"
      ]
     },
     "execution_count": 315,
     "metadata": {},
     "output_type": "execute_result"
    },
    {
     "data": {
      "image/png": "[encoded data removed]",
      "text/plain": [
       "<Figure size 640x480 with 1 Axes>"
      ]
     },
     "metadata": {},
     "output_type": "display_data"
    }
   ],
   "source": [
    "# Create a new figure and set of axis\n",
    "fig, ax = plt.subplots()\n",
    "\n",
    "# Simple Plot\n",
    "ax.plot(flen, pmass, 'x')\n",
    "\n",
    "# Simple Plot\n",
    "ax.plot(flen, b * flen + a, 'r-')\n",
    "\n",
    "# Add Axis labels\n",
    "ax.set_xlabel('Flipper Length (mm)')\n",
    "ax.set_ylabel('Penguin Mass (g)')\n",
    "\n",
    "# Title\n",
    "ax.set_title('Penguin (Body) Mass vs. Flipper Length')\n",
    "\n",
    "# Set X Limits\n",
    "ax.set_xlim(150, 250)\n",
    "\n",
    "# Set Y Limits\n",
    "ax.set_ylim(1700, 8000)"
   ]
  },
  {
   "cell_type": "markdown",
   "metadata": {},
   "source": [
    "###### <b>source: [numpy.polyfit](https://numpy.org/doc/stable/reference/generated/numpy.polyfit.html)</b>"
   ]
  },
  {
   "cell_type": "markdown",
   "metadata": {},
   "source": [
    "##### <b>Section 8.2.2: Correlation Coefficient (Flipper Length vs. Body Mass)</b>"
   ]
  },
  {
   "cell_type": "code",
   "execution_count": 316,
   "metadata": {},
   "outputs": [
    {
     "data": {
      "text/plain": [
       "array([[1.       , 0.8729789],\n",
       "       [0.8729789, 1.       ]])"
      ]
     },
     "execution_count": 316,
     "metadata": {},
     "output_type": "execute_result"
    }
   ],
   "source": [
    "# Measure the correlation\n",
    "\n",
    "np.corrcoef(pmass, flen) # create correlation matrix"
   ]
  },
  {
   "cell_type": "markdown",
   "metadata": {},
   "source": [
    "<sub><b>Value of correlation</b>: 0.8729789</sub>\n",
    "\n",
    "<sub><b>Analysis</b>: This correlation matrix indicates a <u>relatively strong, positive correlation</u> between 'flipper_length' and 'body_mass'. This means that penguins with a larger 'body mass' will have longer 'bill lengths'. "
   ]
  },
  {
   "cell_type": "markdown",
   "metadata": {},
   "source": [
    "###### <b>source: [Create a correlation Matrix using Python](https://www.geeksforgeeks.org/create-a-correlation-matrix-using-python/)</b>"
   ]
  },
  {
   "cell_type": "markdown",
   "metadata": {},
   "source": [
    "***"
   ]
  },
  {
   "cell_type": "markdown",
   "metadata": {},
   "source": [
    "### End\n"
   ]
  },
  {
   "cell_type": "markdown",
   "metadata": {},
   "source": [
    "<img src=\"https://pbs.twimg.com/media/Ed8VOUyU8AI8gky?format=png&name=4096x4096\" width=150>\n",
    "\n",
    "<sub>Figure 1.3: Artwork by [Allison Horst](https://twitter.com/allison_horst)</sub> "
   ]
  },
  {
   "cell_type": "markdown",
   "metadata": {},
   "source": []
  }
 ],
 "metadata": {
  "kernelspec": {
   "display_name": "base",
   "language": "python",
   "name": "python3"
  },
  "language_info": {
   "codemirror_mode": {
    "name": "ipython",
    "version": 3
   },
   "file_extension": ".py",
   "mimetype": "text/x-python",
   "name": "python",
   "nbconvert_exporter": "python",
   "pygments_lexer": "ipython3",
   "version": "3.11.5"
  }
 },
 "nbformat": 4,
 "nbformat_minor": 2
}
