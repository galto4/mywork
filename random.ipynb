{
 "cells": [
  {
   "cell_type": "markdown",
   "metadata": {},
   "source": [
    "# Random Numbers\n",
    "\n",
    "***"
   ]
  },
  {
   "cell_type": "markdown",
   "metadata": {},
   "source": [
    "### Prerequisites\n",
    "\n",
    "https://numpy.org/doc/stable/reference/random/index.html"
   ]
  },
  {
   "cell_type": "code",
   "execution_count": 4,
   "metadata": {},
   "outputs": [],
   "source": [
    "# Numerical arrays and random numbers.\n",
    "import numpy as np"
   ]
  },
  {
   "cell_type": "markdown",
   "metadata": {},
   "source": [
    "### Generate Random Integers\n",
    "***"
   ]
  },
  {
   "cell_type": "code",
   "execution_count": 5,
   "metadata": {},
   "outputs": [],
   "source": [
    "rng = np.random.default_rng()"
   ]
  },
  {
   "cell_type": "code",
   "execution_count": 10,
   "metadata": {},
   "outputs": [
    {
     "data": {
      "text/plain": [
       "0.5791261125100925"
      ]
     },
     "execution_count": 10,
     "metadata": {},
     "output_type": "execute_result"
    }
   ],
   "source": [
    "# Generate one random float uniformly distributed over the range [0, 1)\n",
    "rng.random() "
   ]
  },
  {
   "cell_type": "code",
   "execution_count": 12,
   "metadata": {},
   "outputs": [
    {
     "data": {
      "text/plain": [
       "array([ 0.73903436, -0.71758726,  0.15249983,  0.55760828, -0.64426275])"
      ]
     },
     "execution_count": 12,
     "metadata": {},
     "output_type": "execute_result"
    }
   ],
   "source": [
    "# Generate an array of 10 numbers according to a unit Gaussian distribution\n",
    "rng.standard_normal(5)"
   ]
  },
  {
   "cell_type": "code",
   "execution_count": 18,
   "metadata": {},
   "outputs": [
    {
     "data": {
      "text/plain": [
       "array([2, 6, 0, 1, 8])"
      ]
     },
     "execution_count": 18,
     "metadata": {},
     "output_type": "execute_result"
    }
   ],
   "source": [
    "# Generate an array of 5 integers uniformly over the range [0, 10)\n",
    "rng.integers(low=0, high=10, size=5)"
   ]
  },
  {
   "cell_type": "code",
   "execution_count": 7,
   "metadata": {},
   "outputs": [
    {
     "data": {
      "text/plain": [
       "array([4, 8, 0, ..., 1, 0, 0])"
      ]
     },
     "execution_count": 7,
     "metadata": {},
     "output_type": "execute_result"
    }
   ],
   "source": [
    "# Generate 10,000 integers over the range (0, 10)\n",
    "x = rng.integers(low=0, high=10, size=10000)\n",
    "\n",
    "# Show x.\n",
    "x"
   ]
  },
  {
   "cell_type": "code",
   "execution_count": 8,
   "metadata": {},
   "outputs": [
    {
     "data": {
      "text/plain": [
       "(array([0, 1, 2, 3, 4, 5, 6, 7, 8, 9]),\n",
       " array([1037,  989, 1031,  943, 1017,  972, 1020, 1002,  987, 1002]))"
      ]
     },
     "execution_count": 8,
     "metadata": {},
     "output_type": "execute_result"
    }
   ],
   "source": [
    "# Get the counts.\n",
    "values, counts = np.unique(x, return_counts=True)\n",
    "\n",
    "# Show\n",
    "values, counts"
   ]
  },
  {
   "cell_type": "code",
   "execution_count": 12,
   "metadata": {},
   "outputs": [],
   "source": [
    "import matplotlib.pyplot as plt"
   ]
  },
  {
   "cell_type": "code",
   "execution_count": 13,
   "metadata": {},
   "outputs": [
    {
     "data": {
      "text/plain": [
       "<BarContainer object of 10 artists>"
      ]
     },
     "execution_count": 13,
     "metadata": {},
     "output_type": "execute_result"
    },
    {
     "data": {
      "image/png": "[encoded data removed]",
      "text/plain": [
       "<Figure size 640x480 with 1 Axes>"
      ]
     },
     "metadata": {},
     "output_type": "display_data"
    }
   ],
   "source": [
    "# Plot the bar chart.\n",
    "plt.bar(values, counts)"
   ]
  },
  {
   "cell_type": "markdown",
   "metadata": {},
   "source": [
    "### Uniform Distribution\n",
    "***"
   ]
  },
  {
   "cell_type": "code",
   "execution_count": 33,
   "metadata": {},
   "outputs": [
    {
     "data": {
      "text/plain": [
       "array([3.33700922, 8.73699415, 1.20994871, ..., 0.34804356, 8.29640135,\n",
       "       8.88968908])"
      ]
     },
     "execution_count": 33,
     "metadata": {},
     "output_type": "execute_result"
    }
   ],
   "source": [
    "# Generate 10,000 floats uniformly distributed over the range (0, 10).\n",
    "x = rng.uniform(low=0.0, high=10.0, size=10000)\n",
    "\n",
    "# Show\n",
    "x"
   ]
  },
  {
   "cell_type": "code",
   "execution_count": 34,
   "metadata": {},
   "outputs": [
    {
     "data": {
      "text/plain": [
       "(array([5.50412555e-04, 1.98236134e-03, 3.13639516e-03, ...,\n",
       "        9.99773044e+00, 9.99836339e+00, 9.99846719e+00]),\n",
       " array([1, 1, 1, ..., 1, 1, 1]),\n",
       " 10000,\n",
       " 10000)"
      ]
     },
     "execution_count": 34,
     "metadata": {},
     "output_type": "execute_result"
    }
   ],
   "source": [
    "# Get the counts.\n",
    "values, counts = np.unique(x, return_counts=True)\n",
    "\n",
    "# Show\n",
    "values, counts, values.size, counts.size"
   ]
  },
  {
   "cell_type": "code",
   "execution_count": 35,
   "metadata": {},
   "outputs": [
    {
     "data": {
      "text/plain": [
       "array([7.48416503, 0.85325655, 3.44645268, 0.29390697, 2.8074169 ,\n",
       "       3.38140044, 0.93013253, 6.05402628, 0.20630416, 0.18651667,\n",
       "       9.35522805, 9.30138539, 5.32824121, 0.87601519, 1.45194838,\n",
       "       4.25071479, 3.32388042, 3.52353148, 4.05362576, 3.47926714,\n",
       "       2.13842235, 5.68149452, 5.17140795, 5.32673649, 2.31904934,\n",
       "       9.90974295, 2.53170487, 9.88522782, 1.07521366, 7.91856754,\n",
       "       0.92533701, 2.65239547, 2.40891185, 5.37518691, 8.50926276,\n",
       "       0.67920097, 5.07714121, 2.69518303, 0.24841904, 3.45831858,\n",
       "       3.52049856, 1.333978  , 8.48758567, 3.70189516, 1.49792466,\n",
       "       9.00403506, 5.97174472, 2.70517632, 1.43054446, 0.15143947,\n",
       "       5.46363063, 4.61610728, 4.83347755, 2.66015749, 5.92796125,\n",
       "       3.14662773, 0.09541291, 3.64402914, 3.61838723, 2.2802963 ,\n",
       "       2.22523693, 6.13119596, 5.13344653, 3.58509249, 3.9817105 ,\n",
       "       6.10781267, 1.06970274, 1.40826824, 2.01224632, 0.34975668,\n",
       "       5.4521625 , 3.61402571, 4.46280422, 6.37401332, 3.08642208,\n",
       "       6.19436615, 9.0926239 , 2.77251946, 1.23371766, 3.58240891,\n",
       "       0.33363242, 3.72760026, 9.11674247, 0.44532537, 2.32681344,\n",
       "       0.7451308 , 8.08435331, 8.62819352, 0.27902955, 1.96539748,\n",
       "       1.70789321, 2.37617832, 0.03662582, 8.9329305 , 3.93128438,\n",
       "       9.15451652, 5.87191646, 5.12230453, 0.64860745, 9.38326315])"
      ]
     },
     "execution_count": 35,
     "metadata": {},
     "output_type": "execute_result"
    }
   ],
   "source": [
    "# Generate 100 floats uniformly distributed over the range (0, 10).\n",
    "x = rng.uniform(low=0.0, high=10.0, size=100)\n",
    "\n",
    "# Show\n",
    "x"
   ]
  },
  {
   "cell_type": "code",
   "execution_count": 37,
   "metadata": {},
   "outputs": [
    {
     "data": {
      "text/plain": [
       "(array([0.03662582, 0.09541291, 0.15143947, 0.18651667, 0.20630416,\n",
       "        0.24841904, 0.27902955, 0.29390697, 0.33363242, 0.34975668,\n",
       "        0.44532537, 0.64860745, 0.67920097, 0.7451308 , 0.85325655,\n",
       "        0.87601519, 0.92533701, 0.93013253, 1.06970274, 1.07521366,\n",
       "        1.23371766, 1.333978  , 1.40826824, 1.43054446, 1.45194838,\n",
       "        1.49792466, 1.70789321, 1.96539748, 2.01224632, 2.13842235,\n",
       "        2.22523693, 2.2802963 , 2.31904934, 2.32681344, 2.37617832,\n",
       "        2.40891185, 2.53170487, 2.65239547, 2.66015749, 2.69518303,\n",
       "        2.70517632, 2.77251946, 2.8074169 , 3.08642208, 3.14662773,\n",
       "        3.32388042, 3.38140044, 3.44645268, 3.45831858, 3.47926714,\n",
       "        3.52049856, 3.52353148, 3.58240891, 3.58509249, 3.61402571,\n",
       "        3.61838723, 3.64402914, 3.70189516, 3.72760026, 3.93128438,\n",
       "        3.9817105 , 4.05362576, 4.25071479, 4.46280422, 4.61610728,\n",
       "        4.83347755, 5.07714121, 5.12230453, 5.13344653, 5.17140795,\n",
       "        5.32673649, 5.32824121, 5.37518691, 5.4521625 , 5.46363063,\n",
       "        5.68149452, 5.87191646, 5.92796125, 5.97174472, 6.05402628,\n",
       "        6.10781267, 6.13119596, 6.19436615, 6.37401332, 7.48416503,\n",
       "        7.91856754, 8.08435331, 8.48758567, 8.50926276, 8.62819352,\n",
       "        8.9329305 , 9.00403506, 9.0926239 , 9.11674247, 9.15451652,\n",
       "        9.30138539, 9.35522805, 9.38326315, 9.88522782, 9.90974295]),\n",
       " array([1, 1, 1, 1, 1, 1, 1, 1, 1, 1, 1, 1, 1, 1, 1, 1, 1, 1, 1, 1, 1, 1,\n",
       "        1, 1, 1, 1, 1, 1, 1, 1, 1, 1, 1, 1, 1, 1, 1, 1, 1, 1, 1, 1, 1, 1,\n",
       "        1, 1, 1, 1, 1, 1, 1, 1, 1, 1, 1, 1, 1, 1, 1, 1, 1, 1, 1, 1, 1, 1,\n",
       "        1, 1, 1, 1, 1, 1, 1, 1, 1, 1, 1, 1, 1, 1, 1, 1, 1, 1, 1, 1, 1, 1,\n",
       "        1, 1, 1, 1, 1, 1, 1, 1, 1, 1, 1, 1]),\n",
       " 100,\n",
       " 100)"
      ]
     },
     "execution_count": 37,
     "metadata": {},
     "output_type": "execute_result"
    }
   ],
   "source": [
    "# Get the counts.\n",
    "values, counts = np.unique(x, return_counts=True)\n",
    "\n",
    "# Show\n",
    "values, counts, values.size, counts.size"
   ]
  },
  {
   "cell_type": "code",
   "execution_count": 38,
   "metadata": {},
   "outputs": [
    {
     "data": {
      "text/plain": [
       "<BarContainer object of 100 artists>"
      ]
     },
     "execution_count": 38,
     "metadata": {},
     "output_type": "execute_result"
    },
    {
     "data": {
      "image/png": "[encoded data removed]",
      "text/plain": [
       "<Figure size 640x480 with 1 Axes>"
      ]
     },
     "metadata": {},
     "output_type": "display_data"
    }
   ],
   "source": [
    "# Plot the bar chart.\n",
    "plt.bar(values, counts, edgecolor='black')"
   ]
  },
  {
   "cell_type": "code",
   "execution_count": 39,
   "metadata": {},
   "outputs": [
    {
     "data": {
      "text/plain": [
       "(array([ 0.,  1.,  2.,  3.,  4.,  5.,  6.,  7.,  8.,  9., 10.]),\n",
       " array([11, 15, 10, 14, 14, 11,  9,  1,  3, 10,  2]),\n",
       " 11,\n",
       " 11)"
      ]
     },
     "execution_count": 39,
     "metadata": {},
     "output_type": "execute_result"
    }
   ],
   "source": [
    "# Round values in x.\n",
    "x_rounded = np.round(x, decimals=0)\n",
    "\n",
    "# Get the counts.\n",
    "values, counts = np.unique(x_rounded, return_counts=True)\n",
    "\n",
    "# Show.\n",
    "values, counts, values.size, counts.size"
   ]
  },
  {
   "cell_type": "code",
   "execution_count": 40,
   "metadata": {},
   "outputs": [
    {
     "data": {
      "text/plain": [
       "<BarContainer object of 11 artists>"
      ]
     },
     "execution_count": 40,
     "metadata": {},
     "output_type": "execute_result"
    },
    {
     "data": {
      "image/png": "[encoded data removed]",
      "text/plain": [
       "<Figure size 640x480 with 1 Axes>"
      ]
     },
     "metadata": {},
     "output_type": "display_data"
    }
   ],
   "source": [
    "# Plot the bar chart.\n",
    "plt.bar(values, counts, edgecolor='black')"
   ]
  },
  {
   "cell_type": "markdown",
   "metadata": {},
   "source": [
    "***\n",
    "\n",
    "### End"
   ]
  }
 ],
 "metadata": {
  "kernelspec": {
   "display_name": "base",
   "language": "python",
   "name": "python3"
  },
  "language_info": {
   "codemirror_mode": {
    "name": "ipython",
    "version": 3
   },
   "file_extension": ".py",
   "mimetype": "text/x-python",
   "name": "python",
   "nbconvert_exporter": "python",
   "pygments_lexer": "ipython3",
   "version": "3.11.5"
  }
 },
 "nbformat": 4,
 "nbformat_minor": 2
}
