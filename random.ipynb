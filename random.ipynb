{
 "cells": [
  {
   "cell_type": "markdown",
   "metadata": {},
   "source": [
    "# Random Numbers\n",
    "\n",
    "***"
   ]
  },
  {
   "cell_type": "markdown",
   "metadata": {},
   "source": [
    "### Prerequisites\n",
    "\n",
    "https://numpy.org/doc/stable/reference/random/index.html"
   ]
  },
  {
   "cell_type": "code",
   "execution_count": 1,
   "metadata": {},
   "outputs": [],
   "source": [
    "# Numerical arrays and random numbers.\n",
    "import numpy as np"
   ]
  },
  {
   "cell_type": "markdown",
   "metadata": {},
   "source": [
    "### Generate Random Integers\n",
    "***"
   ]
  },
  {
   "cell_type": "code",
   "execution_count": 2,
   "metadata": {},
   "outputs": [],
   "source": [
    "rng = np.random.default_rng()"
   ]
  },
  {
   "cell_type": "code",
   "execution_count": 3,
   "metadata": {},
   "outputs": [
    {
     "data": {
      "text/plain": [
       "0.24424752332787047"
      ]
     },
     "execution_count": 3,
     "metadata": {},
     "output_type": "execute_result"
    }
   ],
   "source": [
    "# Generate one random float uniformly distributed over the range [0, 1)\n",
    "rng.random() "
   ]
  },
  {
   "cell_type": "code",
   "execution_count": 4,
   "metadata": {},
   "outputs": [
    {
     "data": {
      "text/plain": [
       "array([-0.42468158, -1.18602246,  1.14950352, -0.09595931,  1.11301306])"
      ]
     },
     "execution_count": 4,
     "metadata": {},
     "output_type": "execute_result"
    }
   ],
   "source": [
    "# Generate an array of 10 numbers according to a unit Gaussian distribution\n",
    "rng.standard_normal(5)"
   ]
  },
  {
   "cell_type": "code",
   "execution_count": 5,
   "metadata": {},
   "outputs": [
    {
     "data": {
      "text/plain": [
       "array([7, 3, 1, 6, 7])"
      ]
     },
     "execution_count": 5,
     "metadata": {},
     "output_type": "execute_result"
    }
   ],
   "source": [
    "# Generate an array of 5 integers uniformly over the range [0, 10)\n",
    "rng.integers(low=0, high=10, size=5)"
   ]
  },
  {
   "cell_type": "code",
   "execution_count": 6,
   "metadata": {},
   "outputs": [
    {
     "data": {
      "text/plain": [
       "array([1, 6, 9, ..., 3, 3, 6])"
      ]
     },
     "execution_count": 6,
     "metadata": {},
     "output_type": "execute_result"
    }
   ],
   "source": [
    "# Generate 10,000 integers over the range (0, 10)\n",
    "x = rng.integers(low=0, high=10, size=10000)\n",
    "\n",
    "# Show x.\n",
    "x"
   ]
  },
  {
   "cell_type": "code",
   "execution_count": 7,
   "metadata": {},
   "outputs": [
    {
     "data": {
      "text/plain": [
       "(array([0, 1, 2, 3, 4, 5, 6, 7, 8, 9]),\n",
       " array([1001, 1039,  977, 1007,  995,  989, 1022,  971, 1004,  995]))"
      ]
     },
     "execution_count": 7,
     "metadata": {},
     "output_type": "execute_result"
    }
   ],
   "source": [
    "# Get the counts.\n",
    "values, counts = np.unique(x, return_counts=True)\n",
    "\n",
    "# Show\n",
    "values, counts"
   ]
  },
  {
   "cell_type": "code",
   "execution_count": 8,
   "metadata": {},
   "outputs": [],
   "source": [
    "import matplotlib.pyplot as plt"
   ]
  },
  {
   "cell_type": "code",
   "execution_count": 9,
   "metadata": {},
   "outputs": [
    {
     "data": {
      "text/plain": [
       "<BarContainer object of 10 artists>"
      ]
     },
     "execution_count": 9,
     "metadata": {},
     "output_type": "execute_result"
    },
    {
     "data": {
      "image/png": "[encoded data removed]",
      "text/plain": [
       "<Figure size 640x480 with 1 Axes>"
      ]
     },
     "metadata": {},
     "output_type": "display_data"
    }
   ],
   "source": [
    "# Plot the bar chart.\n",
    "plt.bar(values, counts)"
   ]
  },
  {
   "cell_type": "markdown",
   "metadata": {},
   "source": [
    "### Uniform Distribution\n",
    "***"
   ]
  },
  {
   "cell_type": "code",
   "execution_count": 10,
   "metadata": {},
   "outputs": [
    {
     "data": {
      "text/plain": [
       "array([4.10555805, 2.58867698, 9.89669782, ..., 6.65263671, 5.83283325,\n",
       "       3.83912324])"
      ]
     },
     "execution_count": 10,
     "metadata": {},
     "output_type": "execute_result"
    }
   ],
   "source": [
    "# Generate 10,000 floats uniformly distributed over the range (0, 10).\n",
    "x = rng.uniform(low=0.0, high=10.0, size=10000)\n",
    "\n",
    "# Show\n",
    "x"
   ]
  },
  {
   "cell_type": "code",
   "execution_count": 11,
   "metadata": {},
   "outputs": [
    {
     "data": {
      "text/plain": [
       "(array([9.73344983e-04, 1.99473861e-03, 2.07171833e-03, ...,\n",
       "        9.99290880e+00, 9.99410258e+00, 9.99764918e+00]),\n",
       " array([1, 1, 1, ..., 1, 1, 1]),\n",
       " 10000,\n",
       " 10000)"
      ]
     },
     "execution_count": 11,
     "metadata": {},
     "output_type": "execute_result"
    }
   ],
   "source": [
    "# Get the counts.\n",
    "values, counts = np.unique(x, return_counts=True)\n",
    "\n",
    "# Show\n",
    "values, counts, values.size, counts.size"
   ]
  },
  {
   "cell_type": "code",
   "execution_count": 12,
   "metadata": {},
   "outputs": [
    {
     "data": {
      "text/plain": [
       "array([8.40583069, 3.10646331, 9.9200906 , 4.45934969, 5.46002112,\n",
       "       4.17213143, 1.21773204, 6.60054741, 9.14313028, 9.05485518,\n",
       "       6.43337549, 2.85919289, 6.67820392, 3.61208395, 4.41429082,\n",
       "       8.28181571, 2.09349573, 8.09935866, 1.74461707, 2.11955616,\n",
       "       1.61131773, 9.28344564, 0.84752315, 5.56952731, 8.73528836,\n",
       "       2.88986111, 9.68906745, 4.36051287, 2.69265051, 6.68809619,\n",
       "       8.50041307, 7.00829032, 0.75804589, 3.83339788, 4.12405454,\n",
       "       1.82186219, 9.12602102, 5.22837978, 8.24769516, 7.01059944,\n",
       "       3.15869737, 1.39771167, 9.16646818, 3.70436461, 8.27403087,\n",
       "       4.96158164, 7.77667903, 1.03269238, 2.72693826, 0.2348945 ,\n",
       "       7.87655795, 7.72968445, 9.38442664, 1.89567967, 6.24437595,\n",
       "       4.46377398, 2.22540655, 2.58555125, 2.83995827, 4.14742156,\n",
       "       1.04690408, 8.36772853, 2.32714085, 2.80288877, 4.21040207,\n",
       "       5.25244014, 5.5722077 , 3.03899293, 7.10190013, 0.98161444,\n",
       "       6.17620442, 9.95860111, 5.33568241, 6.62327397, 8.73986862,\n",
       "       0.33499254, 5.04071412, 9.63367764, 5.37228127, 4.64537207,\n",
       "       4.58294231, 9.14391603, 6.86539483, 9.76176271, 2.84182862,\n",
       "       4.48878961, 0.06953929, 4.89065113, 9.45923672, 0.48462098,\n",
       "       9.97751061, 2.47673246, 3.07657076, 3.10437092, 6.22484241,\n",
       "       2.41979863, 8.89023892, 2.86537609, 7.84136858, 9.95721931])"
      ]
     },
     "execution_count": 12,
     "metadata": {},
     "output_type": "execute_result"
    }
   ],
   "source": [
    "# Generate 100 floats uniformly distributed over the range (0, 10).\n",
    "x = rng.uniform(low=0.0, high=10.0, size=100)\n",
    "\n",
    "# Show\n",
    "x"
   ]
  },
  {
   "cell_type": "code",
   "execution_count": 13,
   "metadata": {},
   "outputs": [
    {
     "data": {
      "text/plain": [
       "(array([0.06953929, 0.2348945 , 0.33499254, 0.48462098, 0.75804589,\n",
       "        0.84752315, 0.98161444, 1.03269238, 1.04690408, 1.21773204,\n",
       "        1.39771167, 1.61131773, 1.74461707, 1.82186219, 1.89567967,\n",
       "        2.09349573, 2.11955616, 2.22540655, 2.32714085, 2.41979863,\n",
       "        2.47673246, 2.58555125, 2.69265051, 2.72693826, 2.80288877,\n",
       "        2.83995827, 2.84182862, 2.85919289, 2.86537609, 2.88986111,\n",
       "        3.03899293, 3.07657076, 3.10437092, 3.10646331, 3.15869737,\n",
       "        3.61208395, 3.70436461, 3.83339788, 4.12405454, 4.14742156,\n",
       "        4.17213143, 4.21040207, 4.36051287, 4.41429082, 4.45934969,\n",
       "        4.46377398, 4.48878961, 4.58294231, 4.64537207, 4.89065113,\n",
       "        4.96158164, 5.04071412, 5.22837978, 5.25244014, 5.33568241,\n",
       "        5.37228127, 5.46002112, 5.56952731, 5.5722077 , 6.17620442,\n",
       "        6.22484241, 6.24437595, 6.43337549, 6.60054741, 6.62327397,\n",
       "        6.67820392, 6.68809619, 6.86539483, 7.00829032, 7.01059944,\n",
       "        7.10190013, 7.72968445, 7.77667903, 7.84136858, 7.87655795,\n",
       "        8.09935866, 8.24769516, 8.27403087, 8.28181571, 8.36772853,\n",
       "        8.40583069, 8.50041307, 8.73528836, 8.73986862, 8.89023892,\n",
       "        9.05485518, 9.12602102, 9.14313028, 9.14391603, 9.16646818,\n",
       "        9.28344564, 9.38442664, 9.45923672, 9.63367764, 9.68906745,\n",
       "        9.76176271, 9.9200906 , 9.95721931, 9.95860111, 9.97751061]),\n",
       " array([1, 1, 1, 1, 1, 1, 1, 1, 1, 1, 1, 1, 1, 1, 1, 1, 1, 1, 1, 1, 1, 1,\n",
       "        1, 1, 1, 1, 1, 1, 1, 1, 1, 1, 1, 1, 1, 1, 1, 1, 1, 1, 1, 1, 1, 1,\n",
       "        1, 1, 1, 1, 1, 1, 1, 1, 1, 1, 1, 1, 1, 1, 1, 1, 1, 1, 1, 1, 1, 1,\n",
       "        1, 1, 1, 1, 1, 1, 1, 1, 1, 1, 1, 1, 1, 1, 1, 1, 1, 1, 1, 1, 1, 1,\n",
       "        1, 1, 1, 1, 1, 1, 1, 1, 1, 1, 1, 1]),\n",
       " 100,\n",
       " 100)"
      ]
     },
     "execution_count": 13,
     "metadata": {},
     "output_type": "execute_result"
    }
   ],
   "source": [
    "# Get the counts.\n",
    "values, counts = np.unique(x, return_counts=True)\n",
    "\n",
    "# Show\n",
    "values, counts, values.size, counts.size"
   ]
  },
  {
   "cell_type": "code",
   "execution_count": 14,
   "metadata": {},
   "outputs": [
    {
     "data": {
      "text/plain": [
       "<BarContainer object of 100 artists>"
      ]
     },
     "execution_count": 14,
     "metadata": {},
     "output_type": "execute_result"
    },
    {
     "data": {
      "image/png": "[encoded data removed]",
      "text/plain": [
       "<Figure size 640x480 with 1 Axes>"
      ]
     },
     "metadata": {},
     "output_type": "display_data"
    }
   ],
   "source": [
    "# Plot the bar chart.\n",
    "plt.bar(values, counts, edgecolor='black')"
   ]
  },
  {
   "cell_type": "code",
   "execution_count": 15,
   "metadata": {},
   "outputs": [
    {
     "data": {
      "text/plain": [
       "(array([ 0.,  1.,  2.,  3.,  4.,  5.,  6.,  7.,  8.,  9., 10.]),\n",
       " array([ 4,  7, 10, 14, 12, 10,  6,  8, 10, 12,  7]),\n",
       " 11,\n",
       " 11)"
      ]
     },
     "execution_count": 15,
     "metadata": {},
     "output_type": "execute_result"
    }
   ],
   "source": [
    "# Round values in x.\n",
    "x_rounded = np.round(x, decimals=0)\n",
    "\n",
    "# Get the counts.\n",
    "values, counts = np.unique(x_rounded, return_counts=True)\n",
    "\n",
    "# Show.\n",
    "values, counts, values.size, counts.size"
   ]
  },
  {
   "cell_type": "code",
   "execution_count": 16,
   "metadata": {},
   "outputs": [
    {
     "data": {
      "text/plain": [
       "<BarContainer object of 11 artists>"
      ]
     },
     "execution_count": 16,
     "metadata": {},
     "output_type": "execute_result"
    },
    {
     "data": {
      "image/png": "[encoded data removed]",
      "text/plain": [
       "<Figure size 640x480 with 1 Axes>"
      ]
     },
     "metadata": {},
     "output_type": "display_data"
    }
   ],
   "source": [
    "# Plot the bar chart.\n",
    "plt.bar(values, counts, edgecolor='black')"
   ]
  },
  {
   "cell_type": "code",
   "execution_count": 17,
   "metadata": {},
   "outputs": [
    {
     "data": {
      "text/plain": [
       "array([9.94926594, 5.88840724, 1.66252509, ..., 4.4076177 , 3.44407095,\n",
       "       6.31473158])"
      ]
     },
     "execution_count": 17,
     "metadata": {},
     "output_type": "execute_result"
    }
   ],
   "source": [
    "# Generate 10,000 floats uniformly distributed over the range (0, 10).\n",
    "x = rng.uniform(low=0.0, high=10.0, size=10000)\n",
    "\n",
    "# Show\n",
    "x"
   ]
  },
  {
   "cell_type": "code",
   "execution_count": 21,
   "metadata": {},
   "outputs": [
    {
     "data": {
      "text/plain": [
       "(array([1023.,  963., 1001.,  944., 1022.,  977., 1017., 1001., 1015.,\n",
       "        1037.]),\n",
       " array([7.08236929e-05, 9.99907498e-01, 1.99974417e+00, 2.99958085e+00,\n",
       "        3.99941752e+00, 4.99925420e+00, 5.99909087e+00, 6.99892754e+00,\n",
       "        7.99876422e+00, 8.99860089e+00, 9.99843757e+00]),\n",
       " <BarContainer object of 10 artists>)"
      ]
     },
     "execution_count": 21,
     "metadata": {},
     "output_type": "execute_result"
    },
    {
     "data": {
      "image/png": "[encoded data removed]",
      "text/plain": [
       "<Figure size 640x480 with 1 Axes>"
      ]
     },
     "metadata": {},
     "output_type": "display_data"
    }
   ],
   "source": [
    "# Plot Histogram\n",
    "plt.hist(x, edgecolor='black')"
   ]
  },
  {
   "cell_type": "markdown",
   "metadata": {},
   "source": [
    "## Standard Normal\n",
    "***"
   ]
  },
  {
   "cell_type": "code",
   "execution_count": 24,
   "metadata": {},
   "outputs": [
    {
     "data": {
      "text/plain": [
       "array([-2.11978185, -0.75152873, -0.06643806, ..., -0.62459011,\n",
       "       -1.23090048,  0.86123299])"
      ]
     },
     "execution_count": 24,
     "metadata": {},
     "output_type": "execute_result"
    }
   ],
   "source": [
    "# Generate an array of 10000 numbers.\n",
    "x = rng.standard_normal(size=10000)\n",
    "\n",
    "# Show.\n",
    "x"
   ]
  },
  {
   "cell_type": "code",
   "execution_count": 25,
   "metadata": {},
   "outputs": [
    {
     "data": {
      "text/plain": [
       "(array([2.000e+00, 2.100e+01, 2.350e+02, 9.980e+02, 2.315e+03, 3.078e+03,\n",
       "        2.211e+03, 9.070e+02, 2.040e+02, 2.900e+01]),\n",
       " array([-4.31646741, -3.52391166, -2.73135591, -1.93880017, -1.14624442,\n",
       "        -0.35368867,  0.43886708,  1.23142282,  2.02397857,  2.81653432,\n",
       "         3.60909007]),\n",
       " <BarContainer object of 10 artists>)"
      ]
     },
     "execution_count": 25,
     "metadata": {},
     "output_type": "execute_result"
    },
    {
     "data": {
      "image/png": "[encoded data removed]",
      "text/plain": [
       "<Figure size 640x480 with 1 Axes>"
      ]
     },
     "metadata": {},
     "output_type": "display_data"
    }
   ],
   "source": [
    "# Plot Histogram\n",
    "plt.hist(x, edgecolor='black')"
   ]
  },
  {
   "cell_type": "code",
   "execution_count": null,
   "metadata": {},
   "outputs": [],
   "source": []
  },
  {
   "cell_type": "code",
   "execution_count": null,
   "metadata": {},
   "outputs": [],
   "source": []
  },
  {
   "cell_type": "markdown",
   "metadata": {},
   "source": [
    "***\n",
    "\n",
    "### End"
   ]
  }
 ],
 "metadata": {
  "kernelspec": {
   "display_name": "base",
   "language": "python",
   "name": "python3"
  },
  "language_info": {
   "codemirror_mode": {
    "name": "ipython",
    "version": 3
   },
   "file_extension": ".py",
   "mimetype": "text/x-python",
   "name": "python",
   "nbconvert_exporter": "python",
   "pygments_lexer": "ipython3",
   "version": "3.11.5"
  }
 },
 "nbformat": 4,
 "nbformat_minor": 2
}
